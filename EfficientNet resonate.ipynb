{
 "cells": [
  {
   "cell_type": "markdown",
   "id": "b1ca7321-df4e-4ae8-8fc2-75f6e1ecf7bc",
   "metadata": {},
   "source": [
    " # Import Required Libraries"
   ]
  },
  {
   "cell_type": "code",
   "execution_count": 1,
   "id": "ed53b26d-13b2-4b37-a07d-dab5159eabbb",
   "metadata": {},
   "outputs": [],
   "source": [
    "import torch\n",
    "import torch.nn as nn\n",
    "import torch.optim as optim\n",
    "from torchvision import datasets, models, transforms\n",
    "from torch.utils.data import DataLoader\n",
    "import os\n"
   ]
  },
  {
   "cell_type": "markdown",
   "id": "d80afc14-36f5-4384-83be-f9de15e7317a",
   "metadata": {},
   "source": [
    "# Preprocessing and Data Loaders"
   ]
  },
  {
   "cell_type": "code",
   "execution_count": 2,
   "id": "ea15a52d-a4a2-4a9a-beac-b739d70bdc20",
   "metadata": {},
   "outputs": [
    {
     "name": "stdout",
     "output_type": "stream",
     "text": [
      "Classes: ['clean', 'dust', 'electrical', 'physical', 'snow']\n"
     ]
    }
   ],
   "source": [
    "# Common Transformations\n",
    "transform = transforms.Compose([\n",
    "    transforms.Resize((224, 224)),\n",
    "    transforms.ToTensor(),\n",
    "])\n",
    "\n",
    "# Paths to data directories\n",
    "train_dir = r'C:\\Users\\harsh\\OneDrive\\Desktop\\archive (1)\\new\\train'\n",
    "test_dir = r'C:\\Users\\harsh\\OneDrive\\Desktop\\archive (1)\\new\\validation'\n",
    "\n",
    "# Datasets\n",
    "train_data = datasets.ImageFolder(train_dir, transform=transform)\n",
    "test_data = datasets.ImageFolder(test_dir, transform=transform)\n",
    "\n",
    "# Binary classification: Map labels for binary\n",
    "binary_train_data = [(img, 0 if label == 0 else 1) for img, label in train_data]\n",
    "binary_test_data = [(img, 0 if label == 0 else 1) for img, label in test_data]\n",
    "\n",
    "# Loaders\n",
    "binary_train_loader = DataLoader(binary_train_data, batch_size=32, shuffle=True)\n",
    "binary_test_loader = DataLoader(binary_test_data, batch_size=32, shuffle=False)\n",
    "\n",
    "multi_train_loader = DataLoader(train_data, batch_size=32, shuffle=True)\n",
    "multi_test_loader = DataLoader(test_data, batch_size=32, shuffle=False)\n",
    "\n",
    "class_names = train_data.classes\n",
    "print(f\"Classes: {class_names}\")\n"
   ]
  },
  {
   "cell_type": "markdown",
   "id": "7f15a6fc-4403-4808-a0e0-9c26662282d6",
   "metadata": {},
   "source": [
    "# Define Models\n",
    "## Binary Classification Model (ResNet)\n",
    "## Multiple Classification Model (EfficientNet)"
   ]
  },
  {
   "cell_type": "code",
   "execution_count": 3,
   "id": "8a001671-20f6-4893-b3c7-fd7a895a2f36",
   "metadata": {},
   "outputs": [],
   "source": [
    "# Binary Classification Model using ResNet\n",
    "class BinaryClassifier(nn.Module):\n",
    "    def __init__(self):\n",
    "        super(BinaryClassifier, self).__init__()\n",
    "        self.base_model = models.resnet18(weights=models.ResNet18_Weights.DEFAULT)\n",
    "        self.base_model.fc = nn.Linear(self.base_model.fc.in_features, 2)\n",
    "\n",
    "    def forward(self, x):\n",
    "        return self.base_model(x)\n",
    "\n",
    "# Multi-class Classification Model using EfficientNet\n",
    "class MultiClassifier(nn.Module):\n",
    "    def __init__(self):\n",
    "        super(MultiClassifier, self).__init__()\n",
    "        self.base_model = models.efficientnet_b0(weights=models.EfficientNet_B0_Weights.DEFAULT)\n",
    "        self.base_model.classifier[1] = nn.Linear(self.base_model.classifier[1].in_features, 5)\n",
    "\n",
    "    def forward(self, x):\n",
    "        return self.base_model(x)\n"
   ]
  },
  {
   "cell_type": "markdown",
   "id": "0e327265-b1aa-49fc-944f-b90788811650",
   "metadata": {},
   "source": [
    "# Define Training and Evaluation Functions"
   ]
  },
  {
   "cell_type": "code",
   "execution_count": 4,
   "id": "a4170c12-699d-4653-bb30-d4b78551157e",
   "metadata": {},
   "outputs": [],
   "source": [
    "def train(model, loader, criterion, optimizer, device):\n",
    "    model.train()\n",
    "    total_loss = 0.0\n",
    "    for inputs, labels in loader:\n",
    "        inputs, labels = inputs.to(device), labels.to(device)\n",
    "        optimizer.zero_grad()\n",
    "        outputs = model(inputs)\n",
    "        loss = criterion(outputs, labels)\n",
    "        loss.backward()\n",
    "        optimizer.step()\n",
    "        total_loss += loss.item()\n",
    "    return total_loss / len(loader)\n",
    "\n",
    "def evaluate(model, loader, criterion, device):\n",
    "    model.eval()\n",
    "    total_loss = 0.0\n",
    "    correct = 0\n",
    "    total = 0\n",
    "    with torch.no_grad():\n",
    "        for inputs, labels in loader:\n",
    "            inputs, labels = inputs.to(device), labels.to(device)\n",
    "            outputs = model(inputs)\n",
    "            loss = criterion(outputs, labels)\n",
    "            total_loss += loss.item()\n",
    "            _, preds = torch.max(outputs, 1)\n",
    "            correct += (preds == labels).sum().item()\n",
    "            total += labels.size(0)\n",
    "    accuracy = correct / total\n",
    "    return total_loss / len(loader), accuracy\n"
   ]
  },
  {
   "cell_type": "markdown",
   "id": "726d134b-82bd-47dd-8e86-806ea575428f",
   "metadata": {},
   "source": [
    "# Training Both Models"
   ]
  },
  {
   "cell_type": "code",
   "execution_count": 5,
   "id": "c28ad679-e7c1-4329-81af-472b4faa21e7",
   "metadata": {},
   "outputs": [
    {
     "name": "stdout",
     "output_type": "stream",
     "text": [
      "Epoch 1/10\n",
      "Binary - Loss: 0.6742, Val Loss: 1.3042, Accuracy: 0.5763\n",
      "Multi - Loss: 0.9236, Val Loss: 2.2169, Accuracy: 0.5678\n",
      "Epoch 2/10\n",
      "Binary - Loss: 0.3738, Val Loss: 0.4104, Accuracy: 0.8390\n",
      "Multi - Loss: 0.3733, Val Loss: 0.3744, Accuracy: 0.8559\n",
      "Epoch 3/10\n",
      "Binary - Loss: 0.2188, Val Loss: 0.3518, Accuracy: 0.9153\n",
      "Multi - Loss: 0.1639, Val Loss: 0.4458, Accuracy: 0.8390\n",
      "Epoch 4/10\n",
      "Binary - Loss: 0.2321, Val Loss: 0.5527, Accuracy: 0.8136\n",
      "Multi - Loss: 0.0995, Val Loss: 0.3414, Accuracy: 0.8814\n",
      "Epoch 5/10\n",
      "Binary - Loss: 0.1510, Val Loss: 0.9310, Accuracy: 0.7797\n",
      "Multi - Loss: 0.1124, Val Loss: 0.5717, Accuracy: 0.8220\n",
      "Epoch 6/10\n",
      "Binary - Loss: 0.1312, Val Loss: 0.6184, Accuracy: 0.8559\n",
      "Multi - Loss: 0.1243, Val Loss: 0.5122, Accuracy: 0.8475\n",
      "Epoch 7/10\n",
      "Binary - Loss: 0.1810, Val Loss: 1.7844, Accuracy: 0.6864\n",
      "Multi - Loss: 0.1098, Val Loss: 0.5283, Accuracy: 0.8475\n",
      "Epoch 8/10\n",
      "Binary - Loss: 0.2029, Val Loss: 0.2894, Accuracy: 0.8983\n",
      "Multi - Loss: 0.0796, Val Loss: 0.6262, Accuracy: 0.8051\n",
      "Epoch 9/10\n",
      "Binary - Loss: 0.1158, Val Loss: 0.4952, Accuracy: 0.8729\n",
      "Multi - Loss: 0.1166, Val Loss: 0.4693, Accuracy: 0.8814\n",
      "Epoch 10/10\n",
      "Binary - Loss: 0.0943, Val Loss: 0.3697, Accuracy: 0.8898\n",
      "Multi - Loss: 0.1181, Val Loss: 0.3532, Accuracy: 0.8983\n"
     ]
    }
   ],
   "source": [
    "device = torch.device(\"cuda\" if torch.cuda.is_available() else \"cpu\")\n",
    "\n",
    "# Binary Classification Training\n",
    "binary_model = BinaryClassifier().to(device)\n",
    "binary_criterion = nn.CrossEntropyLoss()\n",
    "binary_optimizer = optim.Adam(binary_model.parameters(), lr=0.001)\n",
    "\n",
    "# Multi-class Classification Training\n",
    "multi_model = MultiClassifier().to(device)\n",
    "multi_criterion = nn.CrossEntropyLoss()\n",
    "multi_optimizer = optim.Adam(multi_model.parameters(), lr=0.001)\n",
    "\n",
    "# Training Loop\n",
    "epochs = 10\n",
    "for epoch in range(epochs):\n",
    "    # Train Binary Model\n",
    "    binary_loss = train(binary_model, binary_train_loader, binary_criterion, binary_optimizer, device)\n",
    "    binary_val_loss, binary_accuracy = evaluate(binary_model, binary_test_loader, binary_criterion, device)\n",
    "    \n",
    "    # Train Multi-class Model\n",
    "    multi_loss = train(multi_model, multi_train_loader, multi_criterion, multi_optimizer, device)\n",
    "    multi_val_loss, multi_accuracy = evaluate(multi_model, multi_test_loader, multi_criterion, device)\n",
    "    \n",
    "    print(f\"Epoch {epoch+1}/{epochs}\")\n",
    "    print(f\"Binary - Loss: {binary_loss:.4f}, Val Loss: {binary_val_loss:.4f}, Accuracy: {binary_accuracy:.4f}\")\n",
    "    print(f\"Multi - Loss: {multi_loss:.4f}, Val Loss: {multi_val_loss:.4f}, Accuracy: {multi_accuracy:.4f}\")\n"
   ]
  },
  {
   "cell_type": "markdown",
   "id": "043928d6-8214-43d7-adec-5d18e1fc377d",
   "metadata": {},
   "source": [
    "# Classify Images"
   ]
  },
  {
   "cell_type": "code",
   "execution_count": 7,
   "id": "db49fb6b-9359-44a2-8e17-95be9afdd746",
   "metadata": {},
   "outputs": [
    {
     "name": "stdout",
     "output_type": "stream",
     "text": [
      "The panel is classified as 'unclean' with subcategory: snow\n"
     ]
    }
   ],
   "source": [
    "from PIL import Image  # Import the Image class\n",
    "\n",
    "def classify_image(binary_model, multi_model, image_path):\n",
    "    transform = transforms.Compose([\n",
    "        transforms.Resize((224, 224)),\n",
    "        transforms.ToTensor(),\n",
    "    ])\n",
    "    image = Image.open(image_path).convert(\"RGB\")  # Use PIL.Image to open the image\n",
    "    image = transform(image).unsqueeze(0).to(device)\n",
    "\n",
    "    binary_model.eval()\n",
    "    multi_model.eval()\n",
    "\n",
    "    with torch.no_grad():\n",
    "        # Binary classification\n",
    "        binary_output = binary_model(image)\n",
    "        is_unclean = torch.argmax(binary_output, dim=1).item()\n",
    "\n",
    "        if is_unclean == 1:\n",
    "            # Multi-class classification\n",
    "            multi_output = multi_model(image)\n",
    "            subcategory = torch.argmax(multi_output, dim=1).item()\n",
    "            subcategory_name = class_names[subcategory]\n",
    "            print(f\"The panel is classified as 'unclean' with subcategory: {subcategory_name}\")\n",
    "        else:\n",
    "            print(\"The panel is classified as 'clean'.\")\n",
    "\n",
    "image_path = r'C:\\Users\\harsh\\OneDrive\\Desktop\\design1\\okay.jpg'\n",
    "classify_image(binary_model, multi_model, image_path)\n"
   ]
  },
  {
   "cell_type": "code",
   "execution_count": null,
   "id": "73f28adf-bb7a-48ad-8ada-e6e993a3eaeb",
   "metadata": {},
   "outputs": [],
   "source": []
  }
 ],
 "metadata": {
  "kernelspec": {
   "display_name": "Python 3 (ipykernel)",
   "language": "python",
   "name": "python3"
  },
  "language_info": {
   "codemirror_mode": {
    "name": "ipython",
    "version": 3
   },
   "file_extension": ".py",
   "mimetype": "text/x-python",
   "name": "python",
   "nbconvert_exporter": "python",
   "pygments_lexer": "ipython3",
   "version": "3.11.7"
  }
 },
 "nbformat": 4,
 "nbformat_minor": 5
}
